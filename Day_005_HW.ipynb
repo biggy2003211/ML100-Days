{
 "cells": [
  {
   "cell_type": "code",
   "execution_count": 1,
   "metadata": {},
   "outputs": [],
   "source": [
    "# Import 需要的套件\n",
    "import os\n",
    "import numpy as np\n",
    "import pandas as pd\n",
    "\n",
    "# 設定 data_path\n",
    "dir_data = './data/'"
   ]
  },
  {
   "cell_type": "code",
   "execution_count": 2,
   "metadata": {},
   "outputs": [],
   "source": [
    "f_app_train = os.path.join(dir_data, 'application_train.csv')\n",
    "app_train = pd.read_csv(f_app_train)"
   ]
  },
  {
   "cell_type": "code",
   "execution_count": 3,
   "metadata": {},
   "outputs": [],
   "source": [
    "import matplotlib.pyplot as plt\n",
    "%matplotlib inline"
   ]
  },
  {
   "cell_type": "markdown",
   "metadata": {},
   "source": [
    "## 練習時間"
   ]
  },
  {
   "cell_type": "markdown",
   "metadata": {},
   "source": [
    "觀察有興趣的欄位的資料分佈，並嘗試找出有趣的訊息\n",
    "#### Eg\n",
    "- 計算任意欄位的平均數及標準差\n",
    "- 畫出任意欄位的[直方圖](https://zh.wikipedia.org/zh-tw/%E7%9B%B4%E6%96%B9%E5%9B%BE)\n",
    "\n",
    "### Hints:\n",
    "- [Descriptive Statistics For pandas Dataframe](https://chrisalbon.com/python/data_wrangling/pandas_dataframe_descriptive_stats/)\n",
    "- [pandas 中的繪圖函數](https://amaozhao.gitbooks.io/pandas-notebook/content/pandas%E4%B8%AD%E7%9A%84%E7%BB%98%E5%9B%BE%E5%87%BD%E6%95%B0.html)\n"
   ]
  },
  {
   "cell_type": "markdown",
   "metadata": {},
   "source": [
    "### 透過 info() 觀察欄位屬性"
   ]
  },
  {
   "cell_type": "code",
   "execution_count": 4,
   "metadata": {},
   "outputs": [
    {
     "name": "stdout",
     "output_type": "stream",
     "text": [
      "<class 'pandas.core.frame.DataFrame'>\n",
      "RangeIndex: 307511 entries, 0 to 307510\n",
      "Data columns (total 122 columns):\n",
      "SK_ID_CURR                      307511 non-null int64\n",
      "TARGET                          307511 non-null int64\n",
      "NAME_CONTRACT_TYPE              307511 non-null object\n",
      "CODE_GENDER                     307511 non-null object\n",
      "FLAG_OWN_CAR                    307511 non-null object\n",
      "FLAG_OWN_REALTY                 307511 non-null object\n",
      "CNT_CHILDREN                    307511 non-null int64\n",
      "AMT_INCOME_TOTAL                307511 non-null float64\n",
      "AMT_CREDIT                      307511 non-null float64\n",
      "AMT_ANNUITY                     307499 non-null float64\n",
      "AMT_GOODS_PRICE                 307233 non-null float64\n",
      "NAME_TYPE_SUITE                 306219 non-null object\n",
      "NAME_INCOME_TYPE                307511 non-null object\n",
      "NAME_EDUCATION_TYPE             307511 non-null object\n",
      "NAME_FAMILY_STATUS              307511 non-null object\n",
      "NAME_HOUSING_TYPE               307511 non-null object\n",
      "REGION_POPULATION_RELATIVE      307511 non-null float64\n",
      "DAYS_BIRTH                      307511 non-null int64\n",
      "DAYS_EMPLOYED                   307511 non-null int64\n",
      "DAYS_REGISTRATION               307511 non-null float64\n",
      "DAYS_ID_PUBLISH                 307511 non-null int64\n",
      "OWN_CAR_AGE                     104582 non-null float64\n",
      "FLAG_MOBIL                      307511 non-null int64\n",
      "FLAG_EMP_PHONE                  307511 non-null int64\n",
      "FLAG_WORK_PHONE                 307511 non-null int64\n",
      "FLAG_CONT_MOBILE                307511 non-null int64\n",
      "FLAG_PHONE                      307511 non-null int64\n",
      "FLAG_EMAIL                      307511 non-null int64\n",
      "OCCUPATION_TYPE                 211120 non-null object\n",
      "CNT_FAM_MEMBERS                 307509 non-null float64\n",
      "REGION_RATING_CLIENT            307511 non-null int64\n",
      "REGION_RATING_CLIENT_W_CITY     307511 non-null int64\n",
      "WEEKDAY_APPR_PROCESS_START      307511 non-null object\n",
      "HOUR_APPR_PROCESS_START         307511 non-null int64\n",
      "REG_REGION_NOT_LIVE_REGION      307511 non-null int64\n",
      "REG_REGION_NOT_WORK_REGION      307511 non-null int64\n",
      "LIVE_REGION_NOT_WORK_REGION     307511 non-null int64\n",
      "REG_CITY_NOT_LIVE_CITY          307511 non-null int64\n",
      "REG_CITY_NOT_WORK_CITY          307511 non-null int64\n",
      "LIVE_CITY_NOT_WORK_CITY         307511 non-null int64\n",
      "ORGANIZATION_TYPE               307511 non-null object\n",
      "EXT_SOURCE_1                    134133 non-null float64\n",
      "EXT_SOURCE_2                    306851 non-null float64\n",
      "EXT_SOURCE_3                    246546 non-null float64\n",
      "APARTMENTS_AVG                  151450 non-null float64\n",
      "BASEMENTAREA_AVG                127568 non-null float64\n",
      "YEARS_BEGINEXPLUATATION_AVG     157504 non-null float64\n",
      "YEARS_BUILD_AVG                 103023 non-null float64\n",
      "COMMONAREA_AVG                  92646 non-null float64\n",
      "ELEVATORS_AVG                   143620 non-null float64\n",
      "ENTRANCES_AVG                   152683 non-null float64\n",
      "FLOORSMAX_AVG                   154491 non-null float64\n",
      "FLOORSMIN_AVG                   98869 non-null float64\n",
      "LANDAREA_AVG                    124921 non-null float64\n",
      "LIVINGAPARTMENTS_AVG            97312 non-null float64\n",
      "LIVINGAREA_AVG                  153161 non-null float64\n",
      "NONLIVINGAPARTMENTS_AVG         93997 non-null float64\n",
      "NONLIVINGAREA_AVG               137829 non-null float64\n",
      "APARTMENTS_MODE                 151450 non-null float64\n",
      "BASEMENTAREA_MODE               127568 non-null float64\n",
      "YEARS_BEGINEXPLUATATION_MODE    157504 non-null float64\n",
      "YEARS_BUILD_MODE                103023 non-null float64\n",
      "COMMONAREA_MODE                 92646 non-null float64\n",
      "ELEVATORS_MODE                  143620 non-null float64\n",
      "ENTRANCES_MODE                  152683 non-null float64\n",
      "FLOORSMAX_MODE                  154491 non-null float64\n",
      "FLOORSMIN_MODE                  98869 non-null float64\n",
      "LANDAREA_MODE                   124921 non-null float64\n",
      "LIVINGAPARTMENTS_MODE           97312 non-null float64\n",
      "LIVINGAREA_MODE                 153161 non-null float64\n",
      "NONLIVINGAPARTMENTS_MODE        93997 non-null float64\n",
      "NONLIVINGAREA_MODE              137829 non-null float64\n",
      "APARTMENTS_MEDI                 151450 non-null float64\n",
      "BASEMENTAREA_MEDI               127568 non-null float64\n",
      "YEARS_BEGINEXPLUATATION_MEDI    157504 non-null float64\n",
      "YEARS_BUILD_MEDI                103023 non-null float64\n",
      "COMMONAREA_MEDI                 92646 non-null float64\n",
      "ELEVATORS_MEDI                  143620 non-null float64\n",
      "ENTRANCES_MEDI                  152683 non-null float64\n",
      "FLOORSMAX_MEDI                  154491 non-null float64\n",
      "FLOORSMIN_MEDI                  98869 non-null float64\n",
      "LANDAREA_MEDI                   124921 non-null float64\n",
      "LIVINGAPARTMENTS_MEDI           97312 non-null float64\n",
      "LIVINGAREA_MEDI                 153161 non-null float64\n",
      "NONLIVINGAPARTMENTS_MEDI        93997 non-null float64\n",
      "NONLIVINGAREA_MEDI              137829 non-null float64\n",
      "FONDKAPREMONT_MODE              97216 non-null object\n",
      "HOUSETYPE_MODE                  153214 non-null object\n",
      "TOTALAREA_MODE                  159080 non-null float64\n",
      "WALLSMATERIAL_MODE              151170 non-null object\n",
      "EMERGENCYSTATE_MODE             161756 non-null object\n",
      "OBS_30_CNT_SOCIAL_CIRCLE        306490 non-null float64\n",
      "DEF_30_CNT_SOCIAL_CIRCLE        306490 non-null float64\n",
      "OBS_60_CNT_SOCIAL_CIRCLE        306490 non-null float64\n",
      "DEF_60_CNT_SOCIAL_CIRCLE        306490 non-null float64\n",
      "DAYS_LAST_PHONE_CHANGE          307510 non-null float64\n",
      "FLAG_DOCUMENT_2                 307511 non-null int64\n",
      "FLAG_DOCUMENT_3                 307511 non-null int64\n",
      "FLAG_DOCUMENT_4                 307511 non-null int64\n",
      "FLAG_DOCUMENT_5                 307511 non-null int64\n",
      "FLAG_DOCUMENT_6                 307511 non-null int64\n",
      "FLAG_DOCUMENT_7                 307511 non-null int64\n",
      "FLAG_DOCUMENT_8                 307511 non-null int64\n",
      "FLAG_DOCUMENT_9                 307511 non-null int64\n",
      "FLAG_DOCUMENT_10                307511 non-null int64\n",
      "FLAG_DOCUMENT_11                307511 non-null int64\n",
      "FLAG_DOCUMENT_12                307511 non-null int64\n",
      "FLAG_DOCUMENT_13                307511 non-null int64\n",
      "FLAG_DOCUMENT_14                307511 non-null int64\n",
      "FLAG_DOCUMENT_15                307511 non-null int64\n",
      "FLAG_DOCUMENT_16                307511 non-null int64\n",
      "FLAG_DOCUMENT_17                307511 non-null int64\n",
      "FLAG_DOCUMENT_18                307511 non-null int64\n",
      "FLAG_DOCUMENT_19                307511 non-null int64\n",
      "FLAG_DOCUMENT_20                307511 non-null int64\n",
      "FLAG_DOCUMENT_21                307511 non-null int64\n",
      "AMT_REQ_CREDIT_BUREAU_HOUR      265992 non-null float64\n",
      "AMT_REQ_CREDIT_BUREAU_DAY       265992 non-null float64\n",
      "AMT_REQ_CREDIT_BUREAU_WEEK      265992 non-null float64\n",
      "AMT_REQ_CREDIT_BUREAU_MON       265992 non-null float64\n",
      "AMT_REQ_CREDIT_BUREAU_QRT       265992 non-null float64\n",
      "AMT_REQ_CREDIT_BUREAU_YEAR      265992 non-null float64\n",
      "dtypes: float64(65), int64(41), object(16)\n",
      "memory usage: 286.2+ MB\n"
     ]
    }
   ],
   "source": [
    "app_train.info(verbose = True, null_counts = True)"
   ]
  },
  {
   "cell_type": "markdown",
   "metadata": {},
   "source": [
    "### 透過 head() 觀察資料內容"
   ]
  },
  {
   "cell_type": "code",
   "execution_count": 5,
   "metadata": {},
   "outputs": [
    {
     "data": {
      "text/html": [
       "<div>\n",
       "<style scoped>\n",
       "    .dataframe tbody tr th:only-of-type {\n",
       "        vertical-align: middle;\n",
       "    }\n",
       "\n",
       "    .dataframe tbody tr th {\n",
       "        vertical-align: top;\n",
       "    }\n",
       "\n",
       "    .dataframe thead th {\n",
       "        text-align: right;\n",
       "    }\n",
       "</style>\n",
       "<table border=\"1\" class=\"dataframe\">\n",
       "  <thead>\n",
       "    <tr style=\"text-align: right;\">\n",
       "      <th></th>\n",
       "      <th>SK_ID_CURR</th>\n",
       "      <th>TARGET</th>\n",
       "      <th>NAME_CONTRACT_TYPE</th>\n",
       "      <th>CODE_GENDER</th>\n",
       "      <th>FLAG_OWN_CAR</th>\n",
       "      <th>FLAG_OWN_REALTY</th>\n",
       "      <th>CNT_CHILDREN</th>\n",
       "      <th>AMT_INCOME_TOTAL</th>\n",
       "      <th>AMT_CREDIT</th>\n",
       "      <th>AMT_ANNUITY</th>\n",
       "      <th>...</th>\n",
       "      <th>FLAG_DOCUMENT_18</th>\n",
       "      <th>FLAG_DOCUMENT_19</th>\n",
       "      <th>FLAG_DOCUMENT_20</th>\n",
       "      <th>FLAG_DOCUMENT_21</th>\n",
       "      <th>AMT_REQ_CREDIT_BUREAU_HOUR</th>\n",
       "      <th>AMT_REQ_CREDIT_BUREAU_DAY</th>\n",
       "      <th>AMT_REQ_CREDIT_BUREAU_WEEK</th>\n",
       "      <th>AMT_REQ_CREDIT_BUREAU_MON</th>\n",
       "      <th>AMT_REQ_CREDIT_BUREAU_QRT</th>\n",
       "      <th>AMT_REQ_CREDIT_BUREAU_YEAR</th>\n",
       "    </tr>\n",
       "  </thead>\n",
       "  <tbody>\n",
       "    <tr>\n",
       "      <th>0</th>\n",
       "      <td>100002</td>\n",
       "      <td>1</td>\n",
       "      <td>Cash loans</td>\n",
       "      <td>M</td>\n",
       "      <td>N</td>\n",
       "      <td>Y</td>\n",
       "      <td>0</td>\n",
       "      <td>202500.0</td>\n",
       "      <td>406597.5</td>\n",
       "      <td>24700.5</td>\n",
       "      <td>...</td>\n",
       "      <td>0</td>\n",
       "      <td>0</td>\n",
       "      <td>0</td>\n",
       "      <td>0</td>\n",
       "      <td>0.0</td>\n",
       "      <td>0.0</td>\n",
       "      <td>0.0</td>\n",
       "      <td>0.0</td>\n",
       "      <td>0.0</td>\n",
       "      <td>1.0</td>\n",
       "    </tr>\n",
       "    <tr>\n",
       "      <th>1</th>\n",
       "      <td>100003</td>\n",
       "      <td>0</td>\n",
       "      <td>Cash loans</td>\n",
       "      <td>F</td>\n",
       "      <td>N</td>\n",
       "      <td>N</td>\n",
       "      <td>0</td>\n",
       "      <td>270000.0</td>\n",
       "      <td>1293502.5</td>\n",
       "      <td>35698.5</td>\n",
       "      <td>...</td>\n",
       "      <td>0</td>\n",
       "      <td>0</td>\n",
       "      <td>0</td>\n",
       "      <td>0</td>\n",
       "      <td>0.0</td>\n",
       "      <td>0.0</td>\n",
       "      <td>0.0</td>\n",
       "      <td>0.0</td>\n",
       "      <td>0.0</td>\n",
       "      <td>0.0</td>\n",
       "    </tr>\n",
       "    <tr>\n",
       "      <th>2</th>\n",
       "      <td>100004</td>\n",
       "      <td>0</td>\n",
       "      <td>Revolving loans</td>\n",
       "      <td>M</td>\n",
       "      <td>Y</td>\n",
       "      <td>Y</td>\n",
       "      <td>0</td>\n",
       "      <td>67500.0</td>\n",
       "      <td>135000.0</td>\n",
       "      <td>6750.0</td>\n",
       "      <td>...</td>\n",
       "      <td>0</td>\n",
       "      <td>0</td>\n",
       "      <td>0</td>\n",
       "      <td>0</td>\n",
       "      <td>0.0</td>\n",
       "      <td>0.0</td>\n",
       "      <td>0.0</td>\n",
       "      <td>0.0</td>\n",
       "      <td>0.0</td>\n",
       "      <td>0.0</td>\n",
       "    </tr>\n",
       "    <tr>\n",
       "      <th>3</th>\n",
       "      <td>100006</td>\n",
       "      <td>0</td>\n",
       "      <td>Cash loans</td>\n",
       "      <td>F</td>\n",
       "      <td>N</td>\n",
       "      <td>Y</td>\n",
       "      <td>0</td>\n",
       "      <td>135000.0</td>\n",
       "      <td>312682.5</td>\n",
       "      <td>29686.5</td>\n",
       "      <td>...</td>\n",
       "      <td>0</td>\n",
       "      <td>0</td>\n",
       "      <td>0</td>\n",
       "      <td>0</td>\n",
       "      <td>NaN</td>\n",
       "      <td>NaN</td>\n",
       "      <td>NaN</td>\n",
       "      <td>NaN</td>\n",
       "      <td>NaN</td>\n",
       "      <td>NaN</td>\n",
       "    </tr>\n",
       "    <tr>\n",
       "      <th>4</th>\n",
       "      <td>100007</td>\n",
       "      <td>0</td>\n",
       "      <td>Cash loans</td>\n",
       "      <td>M</td>\n",
       "      <td>N</td>\n",
       "      <td>Y</td>\n",
       "      <td>0</td>\n",
       "      <td>121500.0</td>\n",
       "      <td>513000.0</td>\n",
       "      <td>21865.5</td>\n",
       "      <td>...</td>\n",
       "      <td>0</td>\n",
       "      <td>0</td>\n",
       "      <td>0</td>\n",
       "      <td>0</td>\n",
       "      <td>0.0</td>\n",
       "      <td>0.0</td>\n",
       "      <td>0.0</td>\n",
       "      <td>0.0</td>\n",
       "      <td>0.0</td>\n",
       "      <td>0.0</td>\n",
       "    </tr>\n",
       "  </tbody>\n",
       "</table>\n",
       "<p>5 rows × 122 columns</p>\n",
       "</div>"
      ],
      "text/plain": [
       "   SK_ID_CURR  TARGET NAME_CONTRACT_TYPE CODE_GENDER FLAG_OWN_CAR  \\\n",
       "0      100002       1         Cash loans           M            N   \n",
       "1      100003       0         Cash loans           F            N   \n",
       "2      100004       0    Revolving loans           M            Y   \n",
       "3      100006       0         Cash loans           F            N   \n",
       "4      100007       0         Cash loans           M            N   \n",
       "\n",
       "  FLAG_OWN_REALTY  CNT_CHILDREN  AMT_INCOME_TOTAL  AMT_CREDIT  AMT_ANNUITY  \\\n",
       "0               Y             0          202500.0    406597.5      24700.5   \n",
       "1               N             0          270000.0   1293502.5      35698.5   \n",
       "2               Y             0           67500.0    135000.0       6750.0   \n",
       "3               Y             0          135000.0    312682.5      29686.5   \n",
       "4               Y             0          121500.0    513000.0      21865.5   \n",
       "\n",
       "              ...              FLAG_DOCUMENT_18 FLAG_DOCUMENT_19  \\\n",
       "0             ...                             0                0   \n",
       "1             ...                             0                0   \n",
       "2             ...                             0                0   \n",
       "3             ...                             0                0   \n",
       "4             ...                             0                0   \n",
       "\n",
       "  FLAG_DOCUMENT_20 FLAG_DOCUMENT_21 AMT_REQ_CREDIT_BUREAU_HOUR  \\\n",
       "0                0                0                        0.0   \n",
       "1                0                0                        0.0   \n",
       "2                0                0                        0.0   \n",
       "3                0                0                        NaN   \n",
       "4                0                0                        0.0   \n",
       "\n",
       "  AMT_REQ_CREDIT_BUREAU_DAY  AMT_REQ_CREDIT_BUREAU_WEEK  \\\n",
       "0                       0.0                         0.0   \n",
       "1                       0.0                         0.0   \n",
       "2                       0.0                         0.0   \n",
       "3                       NaN                         NaN   \n",
       "4                       0.0                         0.0   \n",
       "\n",
       "   AMT_REQ_CREDIT_BUREAU_MON  AMT_REQ_CREDIT_BUREAU_QRT  \\\n",
       "0                        0.0                        0.0   \n",
       "1                        0.0                        0.0   \n",
       "2                        0.0                        0.0   \n",
       "3                        NaN                        NaN   \n",
       "4                        0.0                        0.0   \n",
       "\n",
       "   AMT_REQ_CREDIT_BUREAU_YEAR  \n",
       "0                         1.0  \n",
       "1                         0.0  \n",
       "2                         0.0  \n",
       "3                         NaN  \n",
       "4                         0.0  \n",
       "\n",
       "[5 rows x 122 columns]"
      ]
     },
     "execution_count": 5,
     "metadata": {},
     "output_type": "execute_result"
    }
   ],
   "source": [
    "app_train.head(5)"
   ]
  },
  {
   "cell_type": "markdown",
   "metadata": {},
   "source": [
    "### 透過 describe() 了解該欄位資料的描述統計結果"
   ]
  },
  {
   "cell_type": "code",
   "execution_count": 6,
   "metadata": {},
   "outputs": [
    {
     "data": {
      "text/html": [
       "<div>\n",
       "<style scoped>\n",
       "    .dataframe tbody tr th:only-of-type {\n",
       "        vertical-align: middle;\n",
       "    }\n",
       "\n",
       "    .dataframe tbody tr th {\n",
       "        vertical-align: top;\n",
       "    }\n",
       "\n",
       "    .dataframe thead th {\n",
       "        text-align: right;\n",
       "    }\n",
       "</style>\n",
       "<table border=\"1\" class=\"dataframe\">\n",
       "  <thead>\n",
       "    <tr style=\"text-align: right;\">\n",
       "      <th></th>\n",
       "      <th>AMT_INCOME_TOTAL</th>\n",
       "    </tr>\n",
       "  </thead>\n",
       "  <tbody>\n",
       "    <tr>\n",
       "      <th>count</th>\n",
       "      <td>3.075110e+05</td>\n",
       "    </tr>\n",
       "    <tr>\n",
       "      <th>mean</th>\n",
       "      <td>1.687979e+05</td>\n",
       "    </tr>\n",
       "    <tr>\n",
       "      <th>std</th>\n",
       "      <td>2.371231e+05</td>\n",
       "    </tr>\n",
       "    <tr>\n",
       "      <th>min</th>\n",
       "      <td>2.565000e+04</td>\n",
       "    </tr>\n",
       "    <tr>\n",
       "      <th>25%</th>\n",
       "      <td>1.125000e+05</td>\n",
       "    </tr>\n",
       "    <tr>\n",
       "      <th>50%</th>\n",
       "      <td>1.471500e+05</td>\n",
       "    </tr>\n",
       "    <tr>\n",
       "      <th>75%</th>\n",
       "      <td>2.025000e+05</td>\n",
       "    </tr>\n",
       "    <tr>\n",
       "      <th>max</th>\n",
       "      <td>1.170000e+08</td>\n",
       "    </tr>\n",
       "  </tbody>\n",
       "</table>\n",
       "</div>"
      ],
      "text/plain": [
       "       AMT_INCOME_TOTAL\n",
       "count      3.075110e+05\n",
       "mean       1.687979e+05\n",
       "std        2.371231e+05\n",
       "min        2.565000e+04\n",
       "25%        1.125000e+05\n",
       "50%        1.471500e+05\n",
       "75%        2.025000e+05\n",
       "max        1.170000e+08"
      ]
     },
     "execution_count": 6,
     "metadata": {},
     "output_type": "execute_result"
    }
   ],
   "source": [
    "app_train[['AMT_INCOME_TOTAL']].describe()"
   ]
  },
  {
   "cell_type": "markdown",
   "metadata": {},
   "source": [
    "### 透過箱型圖偵測異常資料\n",
    "可發現在Y軸1.2的位置存在一異常大的資料\n",
    "導致箱形圖呈現異常"
   ]
  },
  {
   "cell_type": "code",
   "execution_count": 50,
   "metadata": {},
   "outputs": [
    {
     "data": {
      "text/plain": [
       "{'whiskers': [<matplotlib.lines.Line2D at 0x1e410707ba8>,\n",
       "  <matplotlib.lines.Line2D at 0x1e410707fd0>],\n",
       " 'caps': [<matplotlib.lines.Line2D at 0x1e41070e438>,\n",
       "  <matplotlib.lines.Line2D at 0x1e41070e860>],\n",
       " 'boxes': [<matplotlib.lines.Line2D at 0x1e410707668>],\n",
       " 'medians': [<matplotlib.lines.Line2D at 0x1e41070ec88>],\n",
       " 'fliers': [<matplotlib.lines.Line2D at 0x1e41070ed68>],\n",
       " 'means': []}"
      ]
     },
     "execution_count": 50,
     "metadata": {},
     "output_type": "execute_result"
    },
    {
     "data": {
      "image/png": "[encoded data removed]",
      "text/plain": [
       "<Figure size 432x288 with 1 Axes>"
      ]
     },
     "metadata": {
      "needs_background": "light"
     },
     "output_type": "display_data"
    }
   ],
   "source": [
    "plt.boxplot(app_train['AMT_INCOME_TOTAL'], showfliers=True) "
   ]
  },
  {
   "cell_type": "markdown",
   "metadata": {},
   "source": [
    "### 透過 DF.hist() 繪製直方圖密度圖 了解資料分布情形\n",
    "可發現直方圖密度圖呈現異常"
   ]
  },
  {
   "cell_type": "code",
   "execution_count": 40,
   "metadata": {},
   "outputs": [
    {
     "data": {
      "text/plain": [
       "<matplotlib.axes._subplots.AxesSubplot at 0x1e41027b4a8>"
      ]
     },
     "execution_count": 40,
     "metadata": {},
     "output_type": "execute_result"
    },
    {
     "data": {
      "image/png": "[encoded data removed]",
      "text/plain": [
       "<Figure size 432x288 with 1 Axes>"
      ]
     },
     "metadata": {
      "needs_background": "light"
     },
     "output_type": "display_data"
    }
   ],
   "source": [
    "import matplotlib.pyplot as plt\n",
    "app_train['AMT_INCOME_TOTAL'].hist(bins=50)"
   ]
  },
  {
   "cell_type": "markdown",
   "metadata": {},
   "source": [
    "### 試著將異常值過濾掉在繪製一次圖形\n",
    "### 透過 quantile(q=0~100%) 取得分位數數值"
   ]
  },
  {
   "cell_type": "code",
   "execution_count": 53,
   "metadata": {},
   "outputs": [
    {
     "data": {
      "text/plain": [
       "{'whiskers': [<matplotlib.lines.Line2D at 0x1e40fd80ef0>,\n",
       "  <matplotlib.lines.Line2D at 0x1e40fd80fd0>],\n",
       " 'caps': [<matplotlib.lines.Line2D at 0x1e40fd8a780>,\n",
       "  <matplotlib.lines.Line2D at 0x1e40fd8aba8>],\n",
       " 'boxes': [<matplotlib.lines.Line2D at 0x1e40fd809b0>],\n",
       " 'medians': [<matplotlib.lines.Line2D at 0x1e40fd8afd0>],\n",
       " 'fliers': [<matplotlib.lines.Line2D at 0x1e40fd95438>],\n",
       " 'means': []}"
      ]
     },
     "execution_count": 53,
     "metadata": {},
     "output_type": "execute_result"
    },
    {
     "data": {
      "image/png": "[encoded data removed]",
      "text/plain": [
       "<Figure size 432x288 with 1 Axes>"
      ]
     },
     "metadata": {
      "needs_background": "light"
     },
     "output_type": "display_data"
    }
   ],
   "source": [
    "plt.boxplot(app_train[app_train['AMT_INCOME_TOTAL']<app_train['AMT_INCOME_TOTAL'].quantile(q=0.99)]['AMT_INCOME_TOTAL'], showfliers=True) "
   ]
  },
  {
   "cell_type": "code",
   "execution_count": 55,
   "metadata": {},
   "outputs": [
    {
     "data": {
      "text/plain": [
       "<matplotlib.axes._subplots.AxesSubplot at 0x1e40fda1a20>"
      ]
     },
     "execution_count": 55,
     "metadata": {},
     "output_type": "execute_result"
    },
    {
     "data": {
      "image/png": "[encoded data removed]",
      "text/plain": [
       "<Figure size 432x288 with 1 Axes>"
      ]
     },
     "metadata": {
      "needs_background": "light"
     },
     "output_type": "display_data"
    }
   ],
   "source": [
    "app_train[app_train['AMT_INCOME_TOTAL']<app_train['AMT_INCOME_TOTAL'].quantile(q=0.99)]['AMT_INCOME_TOTAL'].hist()"
   ]
  },
  {
   "cell_type": "markdown",
   "metadata": {},
   "source": [
    "### 以下為繪製值方圖時 bins 參數使用方式\n",
    "bins=10 將資料分成10筆 <br>\n",
    "bins = [0,20,40,60,80,100] 將資料依據陣列級距分類"
   ]
  },
  {
   "cell_type": "code",
   "execution_count": 27,
   "metadata": {},
   "outputs": [
    {
     "data": {
      "text/plain": [
       "(array([ 10.,  31.,  92., 155., 238., 209., 151.,  84.,  21.,   9.]),\n",
       " array([-2.99203438, -2.38602302, -1.78001165, -1.17400028, -0.56798892,\n",
       "         0.03802245,  0.64403382,  1.25004519,  1.85605655,  2.46206792,\n",
       "         3.06807929]),\n",
       " <a list of 10 Patch objects>)"
      ]
     },
     "execution_count": 27,
     "metadata": {},
     "output_type": "execute_result"
    },
    {
     "data": {
      "image/png": "[encoded data removed]",
      "text/plain": [
       "<Figure size 432x288 with 1 Axes>"
      ]
     },
     "metadata": {
      "needs_background": "light"
     },
     "output_type": "display_data"
    }
   ],
   "source": [
    "import numpy as np\n",
    "import matplotlib.pyplot as plt\n",
    "# bins=10 將資料分成10筆\n",
    "x = np.random.randn(1000)\n",
    "plt.hist(x, bins=10)"
   ]
  },
  {
   "cell_type": "code",
   "execution_count": 28,
   "metadata": {},
   "outputs": [
    {
     "data": {
      "text/plain": [
       "(array([  2.,   2.,   7.,  12.,  21.,  36.,  62.,  89., 118., 115., 116.,\n",
       "        116., 112.,  66.,  50.,  29.,  23.,  11.,   7.,   6.]),\n",
       " array([-3.13277527, -2.82976238, -2.52674949, -2.22373659, -1.9207237 ,\n",
       "        -1.61771081, -1.31469791, -1.01168502, -0.70867212, -0.40565923,\n",
       "        -0.10264634,  0.20036656,  0.50337945,  0.80639234,  1.10940524,\n",
       "         1.41241813,  1.71543103,  2.01844392,  2.32145681,  2.62446971,\n",
       "         2.9274826 ]),\n",
       " <a list of 20 Patch objects>)"
      ]
     },
     "execution_count": 28,
     "metadata": {},
     "output_type": "execute_result"
    },
    {
     "data": {
      "image/png": "[encoded data removed]",
      "text/plain": [
       "<Figure size 432x288 with 1 Axes>"
      ]
     },
     "metadata": {
      "needs_background": "light"
     },
     "output_type": "display_data"
    }
   ],
   "source": [
    "# bins=20 將資料分成20筆\n",
    "x = np.random.randn(1000)\n",
    "plt.hist(x, bins=20)"
   ]
  },
  {
   "cell_type": "code",
   "execution_count": 29,
   "metadata": {},
   "outputs": [
    {
     "data": {
      "image/png": "[encoded data removed]",
      "text/plain": [
       "<Figure size 432x288 with 1 Axes>"
      ]
     },
     "metadata": {
      "needs_background": "light"
     },
     "output_type": "display_data"
    }
   ],
   "source": [
    "# bins = [0,20,40,60,80,100] 將資料依據陣列級距分類\n",
    "from matplotlib import pyplot as plt \n",
    "import numpy as np  \n",
    "\n",
    "a = np.array([22,87,5,43,56,73,55,54,11,20,51,5,79,31,27]) \n",
    "plt.hist(a, bins =  [0,20,40,60,80,100]) \n",
    "plt.title(\"histogram\") \n",
    "plt.show()"
   ]
  }
 ],
 "metadata": {
  "kernelspec": {
   "display_name": "Python 3",
   "language": "python",
   "name": "python3"
  },
  "language_info": {
   "codemirror_mode": {
    "name": "ipython",
    "version": 3
   },
   "file_extension": ".py",
   "mimetype": "text/x-python",
   "name": "python",
   "nbconvert_exporter": "python",
   "pygments_lexer": "ipython3",
   "version": "3.7.0"
  }
 },
 "nbformat": 4,
 "nbformat_minor": 2
}
