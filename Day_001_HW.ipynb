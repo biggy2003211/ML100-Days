{
 "cells": [
  {
   "cell_type": "markdown",
   "metadata": {},
   "source": [
    "# (一) \n",
    "# 請上 Kaggle, 在 Competitions 或 Dataset 中找一組競賽或資料並寫下："
   ]
  },
  {
   "cell_type": "markdown",
   "metadata": {},
   "source": [
    "## 1. 你選的這組資料為何重要"
   ]
  },
  {
   "cell_type": "markdown",
   "metadata": {},
   "source": [
    "選用 kaggle 上的 Google Play Store Apps 資料 <br>\n",
    "kaggle: https://www.kaggle.com/lava18/google-play-store-apps  <br>\n",
    "這組資料記錄了 Google Play Store 上 APP 的類型、下載次數、檔案大小、使用者滿意度，<br>\n",
    "可透過這些資料分析  Google Play Store 上的 APP 市場走勢。"
   ]
  },
  {
   "cell_type": "markdown",
   "metadata": {},
   "source": [
    "## 2. 資料從何⽽來"
   ]
  },
  {
   "cell_type": "markdown",
   "metadata": {},
   "source": [
    "資料是由 kaggle datasets 上的資料提供者 Lavanya Gupta 採用網路爬蟲方式收集而來"
   ]
  },
  {
   "cell_type": "markdown",
   "metadata": {},
   "source": [
    "## 3. 蒐集⽽來的資料型態為何\n",
    "結構化的表格資料型態"
   ]
  },
  {
   "cell_type": "markdown",
   "metadata": {},
   "source": [
    "欄位名稱  | 資料型態 | 描述\n",
    ":------------ | :-------------- | :----- \n",
    "App  | Str  | APP名稱\n",
    "Category  | Str  | APP主題(遊戲、音樂、電影)\n",
    "Rating  | Float  | 用戶評分\n",
    "Reviews  | Int  | 用戶評論數\n",
    "Size  | Str  | 檔案大小\n",
    "Installs  | Str  | 下載安裝次數\n",
    "Type  | Str  | 收費類型(收費/免費)\n",
    "Price  | Str  | 價格\n",
    "Content Rating  | Str  | 年齡層分級\n",
    "Genres  | Str  | APP主題分類，<br>例如工具主題的APP又可歸類成<br>音樂編輯工具、相片編輯工具、語言翻譯工具\n",
    "Last Updated  | Date  | 最後更新日期\n",
    "Current Ver  | Str  | 應用程式版本\n",
    "Android Ver  | Str  | Android 最低版本需求\n"
   ]
  },
  {
   "cell_type": "markdown",
   "metadata": {},
   "source": [
    "## 4. 這組資料想解決的問題如何評估"
   ]
  },
  {
   "cell_type": "markdown",
   "metadata": {},
   "source": [
    "其資料為離散的，與時序無關，會採用分類的方式去做評估。<br>\n",
    "可透過 \"APP主題\" 、 \"APP主題分類\" 、 \"下載安裝次數\"分析 APP 市場走勢及各主題下熱門的APP分類為何， <br>\n",
    "並藉由 \"收費類型(收費/免費)\" 分析哪種主題類型的APP是目前市場用戶願意消費的。"
   ]
  },
  {
   "cell_type": "markdown",
   "metadata": {},
   "source": [
    "# (二) \n",
    "# 想像你經營⼀個⾃由載客⾞隊，你希望能透過數據分析以提升業績，\n",
    "# 請你思考並描述你如何規劃整體的分析/解決⽅案"
   ]
  },
  {
   "cell_type": "markdown",
   "metadata": {},
   "source": [
    "## 1. 核⼼問題為何\n",
    "藉由每次的載客時段、載客地點、目的地，分析各區域容易載到客人的時段及目的地，<br>藉此找出有規律的乘車族群其乘車地點、時段及目的地。"
   ]
  },
  {
   "cell_type": "markdown",
   "metadata": {},
   "source": [
    "## 2. 資料從何⽽來\n",
    "藉由每次的乘車資訊收集至後台管理系統，如果未收集到一定的資料量可能無法從中找出相當的乘車規律。"
   ]
  },
  {
   "cell_type": "markdown",
   "metadata": {},
   "source": [
    "## 3. 蒐集⽽來的資料型態為何\n",
    "結構化的表格資料型態"
   ]
  },
  {
   "cell_type": "markdown",
   "metadata": {},
   "source": [
    "## 4. 你要回答的問題，其如何評估\n",
    "其資料為離散的，與時序無關，會採用分類的方式去做評估。<br>"
   ]
  },
  {
   "cell_type": "markdown",
   "metadata": {},
   "source": [
    "# (三)\n",
    "# 統計指標實作範例\n",
    "# 常見於迴歸問題的評估指標\n",
    "## Mean Absolute Error (MAE)\n",
    "## Mean Squared Error (MSE)\n",
    "# 常見於分類問題的指標\n",
    "## Binary Cross Entropy (CE)\n",
    "# 練習時間\n",
    "# 請寫一個函式用來計算 Mean Square Error\n",
    "# $ MSE = \\frac{1}{n}\\sum_{i=1}^{n}{(Y_i - \\hat{Y}_i)^2} $"
   ]
  },
  {
   "cell_type": "code",
   "execution_count": 1,
   "metadata": {},
   "outputs": [],
   "source": [
    "import numpy as np\n",
    "import matplotlib.pyplot as plt"
   ]
  },
  {
   "cell_type": "markdown",
   "metadata": {},
   "source": [
    "### Mean Absolute Error (MAE)"
   ]
  },
  {
   "cell_type": "code",
   "execution_count": 2,
   "metadata": {},
   "outputs": [],
   "source": [
    "def mean_absolute_error(y, yp):\n",
    "    \"\"\"\n",
    "    計算 MAE\n",
    "    Args:\n",
    "        - y: 實際值\n",
    "        - yp: 預測值\n",
    "    Return:\n",
    "        - mae: MAE\n",
    "    \"\"\"\n",
    "    mae = MAE = sum(abs(y - yp)) / len(y)\n",
    "    return mae"
   ]
  },
  {
   "cell_type": "markdown",
   "metadata": {},
   "source": [
    "### Mean Squared Error (MSE)"
   ]
  },
  {
   "cell_type": "code",
   "execution_count": 3,
   "metadata": {},
   "outputs": [],
   "source": [
    "def mean_squared_error(y, yp):\n",
    "    \"\"\"\n",
    "    計算 MSE\n",
    "    Args:\n",
    "        - y: 實際值\n",
    "        - yp: 預測值\n",
    "    Return:\n",
    "        - mse: MSE\n",
    "    \"\"\"\n",
    "    mae = MAE = sum((y - yp)**2) / len(y)\n",
    "    return mae"
   ]
  },
  {
   "cell_type": "code",
   "execution_count": 4,
   "metadata": {},
   "outputs": [
    {
     "data": {
      "image/png": "[encoded data removed]",
      "text/plain": [
       "<Figure size 432x288 with 1 Axes>"
      ]
     },
     "metadata": {
      "needs_background": "light"
     },
     "output_type": "display_data"
    }
   ],
   "source": [
    "w = 3\n",
    "b = 0.5\n",
    "\n",
    "x_lin = np.linspace(0, 100, 101)\n",
    "\n",
    "y = (x_lin + np.random.randn(101) * 5) * w + b\n",
    "\n",
    "plt.plot(x_lin, y, 'b.', label = 'data points')\n",
    "plt.title(\"Assume we have data points\")\n",
    "plt.legend(loc = 2)\n",
    "plt.show()"
   ]
  },
  {
   "cell_type": "code",
   "execution_count": 5,
   "metadata": {},
   "outputs": [
    {
     "data": {
      "image/png": "[encoded data removed]",
      "text/plain": [
       "<Figure size 432x288 with 1 Axes>"
      ]
     },
     "metadata": {
      "needs_background": "light"
     },
     "output_type": "display_data"
    }
   ],
   "source": [
    "y_hat = x_lin * w + b\n",
    "plt.plot(x_lin, y, 'b.', label = 'data')\n",
    "plt.plot(x_lin, y_hat, 'r-', label = 'prediction')\n",
    "plt.title(\"Assume we have data points (And the prediction)\")\n",
    "plt.legend(loc = 2)\n",
    "plt.show()"
   ]
  },
  {
   "cell_type": "code",
   "execution_count": 6,
   "metadata": {},
   "outputs": [
    {
     "name": "stdout",
     "output_type": "stream",
     "text": [
      "The Mean squared error is 192.966\n",
      "The Mean absolute error is 11.317\n"
     ]
    }
   ],
   "source": [
    "# 執行 Function, 確認有沒有正常執行\n",
    "MSE = mean_squared_error(y, y_hat)\n",
    "MAE = mean_absolute_error(y, y_hat)\n",
    "print(\"The Mean squared error is %.3f\" % (MSE))\n",
    "print(\"The Mean absolute error is %.3f\" % (MAE))"
   ]
  }
 ],
 "metadata": {
  "kernelspec": {
   "display_name": "Python 3",
   "language": "python",
   "name": "python3"
  },
  "language_info": {
   "codemirror_mode": {
    "name": "ipython",
    "version": 3
   },
   "file_extension": ".py",
   "mimetype": "text/x-python",
   "name": "python",
   "nbconvert_exporter": "python",
   "pygments_lexer": "ipython3",
   "version": "3.7.0"
  }
 },
 "nbformat": 4,
 "nbformat_minor": 2
}
